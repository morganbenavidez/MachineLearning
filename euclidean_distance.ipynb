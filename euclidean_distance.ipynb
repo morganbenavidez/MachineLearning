{
  "nbformat": 4,
  "nbformat_minor": 0,
  "metadata": {
    "colab": {
      "name": "euclidean_distance.ipynb",
      "provenance": []
    },
    "kernelspec": {
      "name": "python3",
      "display_name": "Python 3"
    },
    "language_info": {
      "name": "python"
    }
  },
  "cells": [
    {
      "cell_type": "code",
      "source": [
        "print('      n')\n",
        "print('sqrt( \\u2211' + '    (ai - pi)^2 )')\n",
        "print('      i=1')"
      ],
      "metadata": {
        "colab": {
          "base_uri": "https://localhost:8080/"
        },
        "id": "9wCHOnDt7J8I",
        "outputId": "f5019a5a-9e12-4698-cbb4-ee3943b96536"
      },
      "execution_count": 22,
      "outputs": [
        {
          "output_type": "stream",
          "name": "stdout",
          "text": [
            "      n\n",
            "sqrt( ∑    (ai - pi)^2 )\n",
            "      i=1\n"
          ]
        }
      ]
    },
    {
      "cell_type": "code",
      "source": [
        "from sympy import Sum, symbols, Indexed, lambdify\n",
        "import numpy as np\n",
        "\n",
        "x, i = symbols(\"x i\")\n",
        "s = Sum(Indexed('x',i),(i,0,3))\n",
        "f = lambdify(x, s)\n",
        "b = np.array([1, 2, 3, 4])\n",
        "f(b)"
      ],
      "metadata": {
        "colab": {
          "base_uri": "https://localhost:8080/"
        },
        "id": "AAtzevEJ9WA2",
        "outputId": "5549cf4d-f89a-437e-dc52-1c6ac86f8f8a"
      },
      "execution_count": 17,
      "outputs": [
        {
          "output_type": "execute_result",
          "data": {
            "text/plain": [
              "10"
            ]
          },
          "metadata": {},
          "execution_count": 17
        }
      ]
    },
    {
      "cell_type": "code",
      "source": [
        "from math import sqrt\n",
        "\n",
        "plot1 = [1,3]\n",
        "plot2 = [2,5]\n",
        "\n",
        "euclidean_distance = sqrt( (plot1[0] -plot2[0])**2 + (plot1[1] -plot2[1])**2 )\n",
        "print(euclidean_distance)\n"
      ],
      "metadata": {
        "colab": {
          "base_uri": "https://localhost:8080/"
        },
        "id": "4iOMmR4z9wrE",
        "outputId": "0e3b798a-5dd4-4f96-9e24-8f90fd67f2d9"
      },
      "execution_count": 27,
      "outputs": [
        {
          "output_type": "stream",
          "name": "stdout",
          "text": [
            "2.23606797749979\n"
          ]
        }
      ]
    }
  ]
}